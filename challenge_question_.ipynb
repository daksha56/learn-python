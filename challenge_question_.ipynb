{
  "nbformat": 4,
  "nbformat_minor": 0,
  "metadata": {
    "colab": {
      "provenance": [],
      "authorship_tag": "ABX9TyNchzEp7uQyu6JpWc3wlEey",
      "include_colab_link": true
    },
    "kernelspec": {
      "name": "python3",
      "display_name": "Python 3"
    },
    "language_info": {
      "name": "python"
    }
  },
  "cells": [
    {
      "cell_type": "markdown",
      "metadata": {
        "id": "view-in-github",
        "colab_type": "text"
      },
      "source": [
        "<a href=\"https://colab.research.google.com/github/daksha56/learn-python/blob/main/challenge_question_.ipynb\" target=\"_parent\"><img src=\"https://colab.research.google.com/assets/colab-badge.svg\" alt=\"Open In Colab\"/></a>"
      ]
    },
    {
      "cell_type": "code",
      "execution_count": 1,
      "metadata": {
        "colab": {
          "base_uri": "https://localhost:8080/"
        },
        "id": "x96LwAp6wUqO",
        "outputId": "dbeca1bf-d764-4633-c8d9-db4dcc132536"
      },
      "outputs": [
        {
          "output_type": "stream",
          "name": "stdout",
          "text": [
            "['Ram', 1, 'Shyam', 2, 'Aman', 3]\n",
            "[1, 2, 3, 'Aman', 'Ram', 'Shyam']\n"
          ]
        }
      ],
      "source": [
        "# prompt: Write a python program to sort the list of heterogeneous data.\n",
        "# e.g. L= [\"Ram\", 1, \"Shyam\", 2, \"Aman\", 3] print(L) L.sort() print(L)\n",
        "# # Above code gives error. Correct it.\n",
        "\n",
        "def sort_hetero_list(L):\n",
        "  \"\"\"\n",
        "  Sorts a list of heterogeneous data.\n",
        "\n",
        "  Args:\n",
        "    L: The list to sort.\n",
        "\n",
        "  Returns:\n",
        "    The sorted list.\n",
        "  \"\"\"\n",
        "\n",
        "  # Create a new list to store the sorted elements.\n",
        "  sorted_list = []\n",
        "\n",
        "  # Iterate over the original list.\n",
        "  for element in L:\n",
        "    # If the element is a string, append it to the sorted list.\n",
        "    if isinstance(element, str):\n",
        "      sorted_list.append(element)\n",
        "\n",
        "  # Sort the strings in the sorted list.\n",
        "  sorted_list.sort()\n",
        "\n",
        "  # Iterate over the original list again.\n",
        "  for element in L:\n",
        "    # If the element is not a string, append it to the sorted list.\n",
        "    if not isinstance(element, str):\n",
        "      sorted_list.append(element)\n",
        "\n",
        "  # Return the sorted list.\n",
        "  return sorted_list\n",
        "\n",
        "L = [\"Ram\", 1, \"Shyam\", 2, \"Aman\", 3]\n",
        "print(L)\n",
        "L = sort_hetero_list(L)\n",
        "print(L)\n"
      ]
    }
  ]
}